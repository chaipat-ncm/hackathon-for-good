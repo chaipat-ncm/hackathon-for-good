{
 "cells": [
  {
   "cell_type": "markdown",
   "metadata": {},
   "source": [
    "# Instructions for Asser challenge"
   ]
  },
  {
   "cell_type": "markdown",
   "metadata": {},
   "source": [
    "Detailed challenge info [here](https://www.hackathonforgood.org/asser-institute)."
   ]
  },
  {
   "cell_type": "markdown",
   "metadata": {},
   "source": [
    "## Outcome\n",
    "To build a tool which identifies common patterns and features of past land grabs, in order to identify areas which are vulnerable to future land grabs and provide them with a risk rating. This would allow communities to be aware that their land is vulnerable and allow them to prepare resistance."
   ]
  },
  {
   "cell_type": "markdown",
   "metadata": {},
   "source": [
    "## Datasets\n",
    "-    Past land deals and acquisitions\n",
    "     -  [Land Matrix: live database collecting and visualizing information about large-scale land acquisitions](https://landmatrix.org/en/)\n",
    "     -  [GRAIN land deals 2016 (database of land deals in 2016 – not live)](https://www.grain.org/article/entries/5492-the-global-farmland-grab-in-2016-how-big-how-bad)\n",
    "     -  [GRAIN land deals 2012 (database of land deals in 2012 – not live)](https://www.grain.org/article/entries/4479-grain-releases-data-set-with-over-400-global-land-grabs)\n",
    "     \n",
    "\n",
    "-    Investment contracts for land\n",
    "     -  http://www.openlandcontracts.org/\n",
    "     \n",
    "\n",
    "-    Media notifications of land acquisitions\n",
    "     -  [GDELT: GDELT monitors the world's news media from nearly every corner of every country, in print, broadcast, and web formats, in over 100 languages, every moment of every day.](http://www.gdeltproject.org/)\n",
    "     \n",
    "\n",
    "-    Land registries around the world\n",
    "     -  World Bank Doing Business Report 2018 (pages 51-55)\n",
    "     -  http://www.doingbusiness.org/data/exploretopics/registering-property\n",
    "\n",
    "\n",
    "-    Government corruption perceptions\n",
    "     -  [Transparency International Corruption Perception Index](https://www.transparency.org/research/cpi/overview)\n",
    "     \n",
    "\n",
    "-    Land cover classifications\n",
    "-    Elevation and population data sets"
   ]
  },
  {
   "cell_type": "markdown",
   "metadata": {},
   "source": [
    "## Other potential datasets\n",
    "| Name                                      | Description                                                                     | Link                                                                   |\n",
    "|-------------------------------------------|---------------------------------------------------------------------------------|------------------------------------------------------------------------|\n",
    "| Natural Earth                             | Free vector data at various scales                                              | http://www.naturalearthdata.com/                                       |\n",
    "| Global Administrative Areas               | GADM is a spatial database of the location of the world's administrative areas. | http://www.gadm.org/                                                   |\n",
    "| MODIS Land Cover                          | Product incorporates five different land cover classification schemes           | https://modis.gsfc.nasa.gov/data/dataprod/mod12.php                    |\n",
    "| Geonames                                  | GEONet Names Server                                                             | http://geonames.nga.mil/gns/html/                                      |\n",
    "| SRTM                                      | Elevation data                                                                  | http://www.cgiar-csi.org/data/srtm-90m-digital-elevation-database-v4-1 |\n",
    "| ASTER GDEM                                | Elevation data                                                                  | http://www.jspacesystems.or.jp/ersdac/GDEM/E/4.html                    |\n",
    "| World pop                                 | Population dynamics - baseline                                                  | http://www.worldpop.org.uk/                                            |\n",
    "| MapAction data sources and resources page | Data Sources and Resource Page from MapAction                                   | http://guides.mapaction.org/data_sources_overview.html                 |"
   ]
  },
  {
   "cell_type": "markdown",
   "metadata": {},
   "source": [
    "## Background reading\n",
    "-    https://www.glanlaw.org/single-post/2017/11/20/Promoting-transnational-accountability-for-%E2%80%9Cland-grabbing%E2%80%9D-Insights-from-a-brainstorming-event\n",
    " \n",
    "-    https://www.tni.org/files/download/landgrabbingprimer-feb2013.pdf\n",
    " \n",
    "-    http://www.srfood.org/images/stories/pdf/officialreports/20140310_finalreport_en.pdf\n"
   ]
  },
  {
   "cell_type": "markdown",
   "metadata": {},
   "source": [
    "## Further background reading\n",
    "-    [Promotion transnational accountability of land grabbing](https://www.glanlaw.org/single-post/2017/11/20/Promoting-transnational-accountability-for-%E2%80%9Cland-grabbing%E2%80%9D-Insights-from-a-brainstorming-event)\n",
    "-    [Land grabbing primer Feb 2013](https://www.tni.org/files/download/landgrabbingprimer-feb2013.pdf)\n",
    "-    [General Assembly Special Rapporteur Report on food](http://www.srfood.org/images/stories/pdf/officialreports/20140310_finalreport_en.pdf)"
   ]
  },
  {
   "cell_type": "markdown",
   "metadata": {},
   "source": [
    "## Other relevant links\n",
    "-    https://resourcegovernance.org/ \n",
    "-    https://www.business-humanrights.org/ "
   ]
  }
 ],
 "metadata": {
  "kernelspec": {
   "display_name": "Python [conda env:workshops]",
   "language": "python",
   "name": "conda-env-workshops-py"
  },
  "language_info": {
   "codemirror_mode": {
    "name": "ipython",
    "version": 3
   },
   "file_extension": ".py",
   "mimetype": "text/x-python",
   "name": "python",
   "nbconvert_exporter": "python",
   "pygments_lexer": "ipython3",
   "version": "3.6.7"
  }
 },
 "nbformat": 4,
 "nbformat_minor": 2
}
