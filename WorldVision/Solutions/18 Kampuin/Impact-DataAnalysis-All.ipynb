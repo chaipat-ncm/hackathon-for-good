{
 "cells": [
  {
   "cell_type": "code",
   "execution_count": 1,
   "metadata": {},
   "outputs": [],
   "source": [
    "get_ipython().magic(u'matplotlib inline')\n",
    "import sys, os, re, json, urllib, requests\n",
    "from bs4 import BeautifulSoup\n",
    "import operator\n",
    "import pandas as pd\n",
    "import numpy as np\n",
    "import time\n",
    "import logging\n",
    "from collections import Counter\n",
    "pd.options.display.max_rows = 500\n",
    "pd.options.display.max_columns = 500\n",
    "import time\n",
    "from datetime import date, timedelta\n",
    "from xgboost import XGBRegressor\n",
    "from sklearn.model_selection import train_test_split, cross_val_score, StratifiedKFold\n",
    "from sklearn.metrics import accuracy_score\n"
   ]
  },
  {
   "cell_type": "code",
   "execution_count": 2,
   "metadata": {
    "scrolled": false
   },
   "outputs": [],
   "source": [
    "# EMDAT Flood data 2004-2018 and WorldBank\n",
    "disaster_wb = pd.read_csv('all_wb.csv',encoding=\"ISO-8859-1\")\n",
    "disaster_wb = disaster_wb.rename(columns={'Magnitude value':'Magnitude', 'Disaster type':'DisasterType', 'Disaster subtype':'DisasterSubtype',\n",
    "                                          'Associated disaster':'AssociatedDisaster', 'Associated disaster2':'AssociatedDisaster2', \n",
    "                                          'Total deaths':'TotalDeaths', 'Total affected':'TotalAffected', \"Total damage ('000 US$)\":\"TotalDamage\",\n",
    "                                          \"Insured losses ('000 US$)\":\"InsuredLosses\", 'NY.ADJ.NNTY.PC.CD':'AdjustedIncome',\n",
    "                                          \"NY.GDP.MKTP.CD\":\"GDP\",\"SM.POP.REFG.OR\":\"Refugees\",\"SP.POP.TOTL\":\"Population\"\n",
    "                                        })\n",
    "disaster_wb.drop(['Latitude','Longitude','Location','SI.POV.NAPR.ZS','SI.POV.NGAP','VC.BTL.DETH','Disaster No.','Disaster name','iso2c','ISO','Magnitude scale','country','SI.POV.GINI'],axis=1,inplace=True)\n",
    "disaster_wb['Start.Day'] = disaster_wb['Start.Day'].fillna(1).astype(int)\n",
    "disaster_wb['Start.Month'] = disaster_wb['Start.Month'].fillna(1).astype(int)\n",
    "disaster_wb['Start.Year'] = disaster_wb['Start.Year'].astype(int)\n",
    "disaster_wb['End.Day'] = disaster_wb['End.Day'].fillna(1).astype(int)\n",
    "disaster_wb['End.Month'] = disaster_wb['End.Month'].fillna(1).astype(int)\n",
    "disaster_wb['End.Year'] = disaster_wb['End.Year'].astype(int)\n",
    "disaster_wb['Duration']=disaster_wb.apply(lambda x: (date(x['End.Year'],x['End.Month'],x['End.Day'])-date(x['Start.Year'],x['Start.Month'],x['Start.Day'])).days+1,axis=1)"
   ]
  },
  {
   "cell_type": "code",
   "execution_count": 3,
   "metadata": {},
   "outputs": [
    {
     "name": "stdout",
     "output_type": "stream",
     "text": [
      "['Surge', 'Industrial accidents', 'Rain', 'Wildfire', 'Snow/ice', 'Crop failure', 'Tsunami/Tidal wave', 'Explosion', 'Avalanche (Snow, Debris)', 'Liquefaction', 'Flood', 'Cold wave', 'Hail', 'Slide (land, mud, snow, rock)', 'Pollution', 'Collapse', '--', 'Transport accident', 'Oil spill', 'Storm', 'Epidemic', 'Lightening', 'Fire', 'Broken Dam/Burst bank']\n"
     ]
    }
   ],
   "source": [
    "AssociatedDisaster = list(set(disaster_wb['AssociatedDisaster'].tolist()+disaster_wb['AssociatedDisaster2'].tolist()))\n",
    "print(AssociatedDisaster)\n",
    "for row in AssociatedDisaster:\n",
    "    disaster_wb[row] = disaster_wb.AssociatedDisaster.str.contains(re.escape(row))|disaster_wb.AssociatedDisaster2.str.contains(re.escape(row))"
   ]
  },
  {
   "cell_type": "code",
   "execution_count": 4,
   "metadata": {},
   "outputs": [],
   "source": [
    "disaster_wb = pd.get_dummies(disaster_wb, prefix=['DT','DST'], prefix_sep='_', dummy_na=False, columns=['DisasterType','DisasterSubtype']) "
   ]
  },
  {
   "cell_type": "code",
   "execution_count": 5,
   "metadata": {},
   "outputs": [],
   "source": [
    "dropped_cols = ['AssociatedDisaster','AssociatedDisaster2','--','Start.Day','Start.Month','End.Day','End.Month','End.Year',\n",
    "               'DT.ODA.DACD.EMRC.CD','DT.ODA.DACD.EMRC.DISA.CD','DT.ODA.DACD.RFGE.CD','EN.CLC.DRSK.XQ','EN.CLC.MDAT.ZS',\n",
    "               'MO.INDEX.HDEV.XQ','UNDP.HDI.XD','VC.IDP.TOCV','DST_--','Start.Year','Refugees']\n",
    "disaster_wb.drop(dropped_cols,axis=1,inplace=True)\n",
    "final_df = disaster_wb.dropna(subset=['Magnitude'])"
   ]
  },
  {
   "cell_type": "code",
   "execution_count": 6,
   "metadata": {},
   "outputs": [
    {
     "name": "stderr",
     "output_type": "stream",
     "text": [
      "C:\\Users\\Gilang\\Anaconda3\\lib\\site-packages\\pandas\\core\\indexing.py:543: SettingWithCopyWarning: \n",
      "A value is trying to be set on a copy of a slice from a DataFrame.\n",
      "Try using .loc[row_indexer,col_indexer] = value instead\n",
      "\n",
      "See the caveats in the documentation: http://pandas.pydata.org/pandas-docs/stable/indexing.html#indexing-view-versus-copy\n",
      "  self.obj[item] = s\n"
     ]
    }
   ],
   "source": [
    "# Impute null values using median value from the same country, We dont have data for some countries in some specific years\n",
    "colnames = ['AdjustedIncome', 'GDP', 'Population']\n",
    "for col in colnames:\n",
    "    Val_NULL = final_df[final_df[col].isnull()]\n",
    "    temp_df = final_df[final_df[col].notnull()]\n",
    "    Val_NULL = Val_NULL[Val_NULL.Country.isin(temp_df.Country)]\n",
    "    Val_NULL = Val_NULL.apply(lambda x : temp_df[temp_df.Country==x.Country][col].median(),axis=1)\n",
    "    final_df.loc[Val_NULL.index,col] = Val_NULL.values\n",
    "final_df=final_df.dropna()\n",
    "final_df=final_df[final_df.TotalAffected>0]"
   ]
  },
  {
   "cell_type": "code",
   "execution_count": 7,
   "metadata": {},
   "outputs": [
    {
     "name": "stdout",
     "output_type": "stream",
     "text": [
      "<class 'pandas.core.frame.DataFrame'>\n",
      "Int64Index: 2272 entries, 2 to 5715\n",
      "Columns: 188 entries, Magnitude to Country_Zimbabwe\n",
      "dtypes: bool(23), float64(4), int64(1), uint8(160)\n",
      "memory usage: 512.5 KB\n"
     ]
    }
   ],
   "source": [
    "Label = final_df[['TotalAffected','TotalDamage']].copy()\n",
    "feature = final_df.drop(['TotalDeaths', 'TotalAffected', 'TotalDamage', 'InsuredLosses'],axis=1)\n",
    "# Get dummy code for countries\n",
    "feature = pd.get_dummies(feature, prefix=None, prefix_sep='_', dummy_na=False, columns=['Country'])\n",
    "feature.info()"
   ]
  },
  {
   "cell_type": "markdown",
   "metadata": {},
   "source": [
    "## Model using Data from 148 Country & All Disasters"
   ]
  },
  {
   "cell_type": "code",
   "execution_count": 8,
   "metadata": {},
   "outputs": [
    {
     "name": "stdout",
     "output_type": "stream",
     "text": [
      "Mean Absolute Error [-2129165.76943681 -1318364.28749517  -909949.80043063  -462891.14267492\n",
      "  -529015.31628848]\n",
      "Mean Squared Error [-1.04440275e+14 -1.49529044e+13 -7.03327602e+12 -2.20888547e+12\n",
      " -5.57117122e+12]\n",
      "R2 [ 0.08103996 -0.45638455 -1.14489128 -0.14195112 -0.12373908]\n"
     ]
    }
   ],
   "source": [
    "model = XGBRegressor()\n",
    "X = feature.values\n",
    "y = Label['TotalAffected'].values\n",
    "MAE = cross_val_score(model, X, y, cv=5, scoring='neg_mean_absolute_error')\n",
    "MSE = cross_val_score(model, X, y, cv=5, scoring='neg_mean_squared_error')\n",
    "R2 = cross_val_score(model, X, y, cv=5, scoring='r2')\n",
    "\n",
    "print('Mean Absolute Error',(MAE))\n",
    "print('Mean Squared Error',(MSE))\n",
    "print('R2',(R2))"
   ]
  },
  {
   "cell_type": "code",
   "execution_count": 9,
   "metadata": {},
   "outputs": [
    {
     "name": "stderr",
     "output_type": "stream",
     "text": [
      "C:\\Users\\Gilang\\Anaconda3\\lib\\site-packages\\sklearn\\utils\\validation.py:475: DataConversionWarning: Data with input dtype object was converted to float64 by StandardScaler.\n",
      "  warnings.warn(msg, DataConversionWarning)\n"
     ]
    },
    {
     "data": {
      "text/plain": [
       "<matplotlib.axes._subplots.AxesSubplot at 0x14298b502e8>"
      ]
     },
     "execution_count": 9,
     "metadata": {},
     "output_type": "execute_result"
    },
    {
     "data": {
      "image/png": "[encoded data removed]",
      "text/plain": [
       "<Figure size 432x288 with 1 Axes>"
      ]
     },
     "metadata": {
      "needs_background": "light"
     },
     "output_type": "display_data"
    }
   ],
   "source": [
    "from sklearn.pipeline import Pipeline\n",
    "from sklearn.preprocessing import StandardScaler, LabelEncoder\n",
    "\n",
    "X, y = feature.values, Label['TotalAffected'].values\n",
    "model_xgb = Pipeline([('scaler',StandardScaler()),('method', XGBRegressor(learning_rate=0.1, scale_pos_weight=1))])\n",
    "model_xgb.fit(X, y)\n",
    "mapFeat = dict(zip([\"f\"+str(i) for i in range(len(feature.columns))],feature.columns))\n",
    "ts = pd.Series(model_xgb.named_steps[\"method\"].get_booster().get_score(importance_type='weight'))\n",
    "ts.index = ts.reset_index()['index'].map(mapFeat)\n",
    "ts.sort_values()[-4:].plot(figsize=(6, 4), kind=\"barh\", title=(\"features importance\"))"
   ]
  },
  {
   "cell_type": "code",
   "execution_count": 10,
   "metadata": {},
   "outputs": [
    {
     "name": "stdout",
     "output_type": "stream",
     "text": [
      "Mean Absolute Error [-2343014.68577832 -1887395.07492425 -1756763.58029057 -1319279.12868092\n",
      " -1919001.48141421]\n",
      "Mean Squared Error [-1.11348685e+14 -1.11740112e+13 -8.69136581e+12 -3.97061510e+12\n",
      " -8.59056271e+12]\n",
      "R2 [ 0.02025353 -0.08832751 -1.65054786 -1.0527313  -0.73276869]\n"
     ]
    }
   ],
   "source": [
    "from sklearn.linear_model import LinearRegression\n",
    "model = LinearRegression()\n",
    "X = feature.values\n",
    "y = Label['TotalAffected'].values\n",
    "MAE = cross_val_score(model, X, y, cv=5, scoring='neg_mean_absolute_error')\n",
    "MSE = cross_val_score(model, X, y, cv=5, scoring='neg_mean_squared_error')\n",
    "R2 = cross_val_score(model, X, y, cv=5, scoring='r2')\n",
    "\n",
    "print('Mean Absolute Error',(MAE))\n",
    "print('Mean Squared Error',(MSE))\n",
    "print('R2',(R2))"
   ]
  },
  {
   "cell_type": "markdown",
   "metadata": {},
   "source": [
    "## Model using Data from Single Country Only"
   ]
  },
  {
   "cell_type": "code",
   "execution_count": 11,
   "metadata": {},
   "outputs": [
    {
     "name": "stdout",
     "output_type": "stream",
     "text": [
      "Mean Absolute Error [-108240.975625    -98304.07045898  -55392.97872559 -298650.48404297\n",
      " -202574.58870443]\n",
      "Mean Squared Error [-3.17142701e+10 -1.75626566e+10 -8.57811718e+09 -6.55304535e+11\n",
      " -2.69675580e+11]\n",
      "R2 [-0.81436909 -2.95044753 -1.29571524 -0.67552793 -0.07473555]\n"
     ]
    }
   ],
   "source": [
    "Indonesia=final_df[final_df.Country=='Indonesia'].index\n",
    "model = XGBRegressor()\n",
    "X = feature.loc[Indonesia].values\n",
    "y = Label.loc[Indonesia,'TotalAffected'].values\n",
    "MAE = cross_val_score(model, X, y, cv=5, scoring='neg_mean_absolute_error')\n",
    "MSE = cross_val_score(model, X, y, cv=5, scoring='neg_mean_squared_error')\n",
    "R2 = cross_val_score(model, X, y, cv=5, scoring='r2')\n",
    "print('Mean Absolute Error',(MAE))\n",
    "print('Mean Squared Error',(MSE))\n",
    "print('R2',(R2))"
   ]
  },
  {
   "cell_type": "markdown",
   "metadata": {},
   "source": [
    "## Model using Data from Single Disaster Only"
   ]
  },
  {
   "cell_type": "code",
   "execution_count": 12,
   "metadata": {},
   "outputs": [
    {
     "name": "stdout",
     "output_type": "stream",
     "text": [
      "Mean Absolute Error [-1018444.09902131 -3101080.96720123 -1509291.24369709  -486278.30736429\n",
      "  -941835.91406055]\n",
      "Mean Squared Error [-4.59566324e+13 -1.66348436e+14 -2.90143842e+13 -3.31874219e+12\n",
      " -3.51932872e+12]\n",
      "R2 [ 3.40784433e-03  2.17016058e-02 -1.50553098e+01 -4.92195148e-01\n",
      " -2.67159230e+00]\n"
     ]
    }
   ],
   "source": [
    "Flood=final_df[final_df.DT_Flood==1].index\n",
    "model = XGBRegressor()\n",
    "X = feature.loc[Flood].values\n",
    "y = Label.loc[Flood,'TotalAffected'].values\n",
    "MAE = cross_val_score(model, X, y, cv=5, scoring='neg_mean_absolute_error')\n",
    "MSE = cross_val_score(model, X, y, cv=5, scoring='neg_mean_squared_error')\n",
    "R2 = cross_val_score(model, X, y, cv=5, scoring='r2')\n",
    "print('Mean Absolute Error',(MAE))\n",
    "print('Mean Squared Error',(MSE))\n",
    "print('R2',(R2))"
   ]
  },
  {
   "cell_type": "markdown",
   "metadata": {},
   "source": [
    "## Model using Data from Single Disaster and Single Country Only"
   ]
  },
  {
   "cell_type": "code",
   "execution_count": 13,
   "metadata": {},
   "outputs": [
    {
     "data": {
      "text/plain": [
       "China                                                         197\n",
       "India                                                         168\n",
       "Indonesia                                                     119\n",
       "Philippines (the)                                              98\n",
       "United States of America (the)                                 88\n",
       "Afghanistan                                                    67\n",
       "Viet Nam                                                       67\n",
       "Brazil                                                         66\n",
       "Pakistan                                                       62\n",
       "Thailand                                                       56\n",
       "Colombia                                                       49\n",
       "Russian Federation (the)                                       46\n",
       "Kenya                                                          46\n",
       "Nigeria                                                        43\n",
       "Bangladesh                                                     41\n",
       "Mexico                                                         41\n",
       "Haiti                                                          40\n",
       "Romania                                                        40\n",
       "Angola                                                         37\n",
       "Malaysia                                                       37\n",
       "Ethiopia                                                       36\n",
       "Sri Lanka                                                      36\n",
       "Iran (Islamic Republic of)                                     34\n",
       "Argentina                                                      34\n",
       "Peru                                                           32\n",
       "Australia                                                      32\n",
       "France                                                         32\n",
       "Algeria                                                        31\n",
       "Somalia                                                        30\n",
       "Italy                                                          30\n",
       "Malawi                                                         28\n",
       "Panama                                                         27\n",
       "Nepal                                                          27\n",
       "Mozambique                                                     26\n",
       "United Kingdom of Great Britain and Northern Ireland (the)     25\n",
       "Canada                                                         25\n",
       "Congo (the Democratic Republic of the)                         25\n",
       "Venezuela (Bolivarian Republic of)                             24\n",
       "Sudan (the)                                                    24\n",
       "Bolivia (Plurinational State of)                               24\n",
       "Tanzania, United Republic of                                   23\n",
       "Tajikistan                                                     23\n",
       "Niger (the)                                                    23\n",
       "Turkey                                                         22\n",
       "Chile                                                          22\n",
       "Burundi                                                        22\n",
       "South Africa                                                   22\n",
       "Honduras                                                       22\n",
       "Myanmar                                                        21\n",
       "Greece                                                         21\n",
       "Guatemala                                                      21\n",
       "Dominican Republic (the)                                       20\n",
       "Korea (the Democratic People's Republic of)                    20\n",
       "Costa Rica                                                     20\n",
       "Japan                                                          20\n",
       "Yemen                                                          20\n",
       "Bulgaria                                                       19\n",
       "Mali                                                           19\n",
       "Saudi Arabia                                                   18\n",
       "Uganda                                                         18\n",
       "Nicaragua                                                      17\n",
       "Ecuador                                                        17\n",
       "Ghana                                                          17\n",
       "Cambodia                                                       17\n",
       "Spain                                                          16\n",
       "Morocco                                                        15\n",
       "Korea (the Republic of)                                        15\n",
       "Zambia                                                         15\n",
       "Burkina Faso                                                   15\n",
       "Namibia                                                        14\n",
       "Serbia                                                         14\n",
       "Lao People's Democratic Republic (the)                         14\n",
       "Hungary                                                        13\n",
       "Bosnia and Herzegovina                                         13\n",
       "Cameroon                                                       13\n",
       "Rwanda                                                         13\n",
       "Mauritania                                                     13\n",
       "Senegal                                                        13\n",
       "Chad                                                           12\n",
       "Uruguay                                                        12\n",
       "El Salvador                                                    12\n",
       "Central African Republic                                       12\n",
       "Germany                                                        12\n",
       "New Zealand                                                    11\n",
       "Kazakhstan                                                     11\n",
       "Croatia                                                        11\n",
       "Guinea                                                         11\n",
       "Papua New Guinea                                               11\n",
       "Albania                                                        11\n",
       "Georgia                                                        11\n",
       "Czech Republic (the)                                           10\n",
       "Zimbabwe                                                       10\n",
       "Macedonia (the former Yugoslav Republic of)                    10\n",
       "Côte dIvoire                                                  10\n",
       "Slovakia                                                       10\n",
       "South Sudan                                                    10\n",
       "Fiji                                                            9\n",
       "Austria                                                         9\n",
       "Ukraine                                                         9\n",
       "Iraq                                                            9\n",
       "Paraguay                                                        9\n",
       "Belgium                                                         9\n",
       "Benin                                                           9\n",
       "Cuba                                                            9\n",
       "Gambia (the)                                                    8\n",
       "Togo                                                            8\n",
       "Botswana                                                        8\n",
       "Poland                                                          8\n",
       "Serbia Montenegro                                               8\n",
       "Congo (the)                                                     7\n",
       "Sierra Leone                                                    7\n",
       "Portugal                                                        7\n",
       "Tunisia                                                         6\n",
       "Swaziland                                                       5\n",
       "Liberia                                                         5\n",
       "Moldova (the Republic of)                                       5\n",
       "Guyana                                                          5\n",
       "Solomon Islands                                                 5\n",
       "Timor-Leste                                                     5\n",
       "Madagascar                                                      5\n",
       "Palestine, State of                                             4\n",
       "Switzerland                                                     4\n",
       "Puerto Rico                                                     4\n",
       "Guinea-Bissau                                                   4\n",
       "Taiwan (Province of China)                                      4\n",
       "Egypt                                                           4\n",
       "Ireland                                                         4\n",
       "Montenegro                                                      4\n",
       "Azerbaijan                                                      3\n",
       "Mongolia                                                        3\n",
       "Slovenia                                                        3\n",
       "Kyrgyzstan                                                      3\n",
       "Saint Vincent and the Grenadines                                3\n",
       "Lesotho                                                         2\n",
       "Norway                                                          2\n",
       "Eritrea                                                         2\n",
       "Kiribati                                                        2\n",
       "Canary Is                                                       2\n",
       "Comoros (the)                                                   2\n",
       "Lithuania                                                       2\n",
       "Bhutan                                                          2\n",
       "Israel                                                          2\n",
       "Cabo Verde                                                      2\n",
       "Belarus                                                         2\n",
       "Saint Lucia                                                     2\n",
       "Suriname                                                        2\n",
       "Marshall Islands (the)                                          2\n",
       "Jamaica                                                         2\n",
       "Vanuatu                                                         2\n",
       "Oman                                                            2\n",
       "Belize                                                          2\n",
       "Libya                                                           1\n",
       "Micronesia (Federated States of)                                1\n",
       "Lebanon                                                         1\n",
       "Finland                                                         1\n",
       "Uzbekistan                                                      1\n",
       "Syrian Arab Republic                                            1\n",
       "Djibouti                                                        1\n",
       "American Samoa                                                  1\n",
       "Gabon                                                           1\n",
       "Hong Kong                                                       1\n",
       "Seychelles                                                      1\n",
       "United Arab Emirates (the)                                      1\n",
       "French Polynesia                                                1\n",
       "Maldives                                                        1\n",
       "Samoa                                                           1\n",
       "Bahamas (the)                                                   1\n",
       "Mauritius                                                       1\n",
       "Armenia                                                         1\n",
       "Name: Country, dtype: int64"
      ]
     },
     "execution_count": 13,
     "metadata": {},
     "output_type": "execute_result"
    }
   ],
   "source": [
    "disaster_wb[disaster_wb.DT_Flood==1].Country.value_counts()"
   ]
  },
  {
   "cell_type": "code",
   "execution_count": 14,
   "metadata": {},
   "outputs": [
    {
     "name": "stdout",
     "output_type": "stream",
     "text": [
      "Mean Absolute Error [-80578.21448693 -27004.85686786 -50625.00407527 -52352.85392879\n",
      " -34931.12129564]\n",
      "Mean Squared Error [-2.35961844e+10 -2.21781570e+09 -7.94912648e+09 -7.67310147e+09\n",
      " -2.81560511e+09]\n",
      "R2 [ 0.03800278  0.73126048 -0.13097627 -6.59048969  0.33988188]\n"
     ]
    }
   ],
   "source": [
    "CountryFlood=final_df[(final_df.DT_Flood==1)&(final_df.Country=='Indonesia')].index\n",
    "model = XGBRegressor()\n",
    "X = feature.loc[CountryFlood].values\n",
    "y = Label.loc[CountryFlood,'TotalAffected'].values\n",
    "MAE = cross_val_score(model, X, y, cv=5, scoring='neg_mean_absolute_error')\n",
    "MSE = cross_val_score(model, X, y, cv=5, scoring='neg_mean_squared_error')\n",
    "R2 = cross_val_score(model, X, y, cv=5, scoring='r2')\n",
    "print('Mean Absolute Error',(MAE))\n",
    "print('Mean Squared Error',(MSE))\n",
    "print('R2',(R2))"
   ]
  },
  {
   "cell_type": "markdown",
   "metadata": {},
   "source": [
    "BETTER than PREVIOUS experiment. More specific the model, the better is the result "
   ]
  },
  {
   "cell_type": "code",
   "execution_count": 19,
   "metadata": {},
   "outputs": [
    {
     "name": "stderr",
     "output_type": "stream",
     "text": [
      "C:\\Users\\Gilang\\Anaconda3\\lib\\site-packages\\sklearn\\utils\\validation.py:475: DataConversionWarning: Data with input dtype object was converted to float64 by StandardScaler.\n",
      "  warnings.warn(msg, DataConversionWarning)\n"
     ]
    },
    {
     "data": {
      "text/plain": [
       "<matplotlib.axes._subplots.AxesSubplot at 0x14298a7fd68>"
      ]
     },
     "execution_count": 19,
     "metadata": {},
     "output_type": "execute_result"
    },
    {
     "data": {
      "image/png": "[encoded data removed]",
      "text/plain": [
       "<Figure size 432x288 with 1 Axes>"
      ]
     },
     "metadata": {
      "needs_background": "light"
     },
     "output_type": "display_data"
    }
   ],
   "source": [
    "X = feature.loc[CountryFlood].values\n",
    "y = Label.loc[CountryFlood,'TotalAffected'].values\n",
    "odel_xgb = Pipeline([('scaler',StandardScaler()),('method', XGBRegressor(learning_rate=0.3, scale_pos_weight=1))])\n",
    "model_xgb.fit(X, y)\n",
    "mapFeat = dict(zip([\"f\"+str(i) for i in range(len(feature.columns))],feature.columns))\n",
    "ts = pd.Series(model_xgb.named_steps[\"method\"].get_booster().get_score(importance_type='weight'))\n",
    "ts.index = ts.reset_index()['index'].map(mapFeat)\n",
    "ts.sort_values()[-4:].plot(figsize=(6, 4), kind=\"barh\", title=(\"features importance\"))"
   ]
  },
  {
   "cell_type": "code",
   "execution_count": 18,
   "metadata": {},
   "outputs": [
    {
     "name": "stderr",
     "output_type": "stream",
     "text": [
      "C:\\Users\\Gilang\\Anaconda3\\lib\\site-packages\\sklearn\\utils\\validation.py:475: DataConversionWarning: Data with input dtype object was converted to float64 by StandardScaler.\n",
      "  warnings.warn(msg, DataConversionWarning)\n"
     ]
    },
    {
     "data": {
      "text/plain": [
       "<matplotlib.axes._subplots.AxesSubplot at 0x1429954a240>"
      ]
     },
     "execution_count": 18,
     "metadata": {},
     "output_type": "execute_result"
    },
    {
     "data": {
      "image/png": "[encoded data removed]",
      "text/plain": [
       "<Figure size 432x288 with 1 Axes>"
      ]
     },
     "metadata": {
      "needs_background": "light"
     },
     "output_type": "display_data"
    }
   ],
   "source": [
    "from sklearn.pipeline import Pipeline\n",
    "from sklearn.preprocessing import StandardScaler, LabelEncoder\n",
    "\n",
    "X, y = feature.values, Label['TotalAffected'].values\n",
    "model_xgb = Pipeline([('scaler',StandardScaler()),('method', XGBRegressor(learning_rate=0.1, scale_pos_weight=1))])\n",
    "model_xgb.fit(X, y)\n",
    "mapFeat = dict(zip([\"f\"+str(i) for i in range(len(feature.columns))],feature.columns))\n",
    "ts = pd.Series(model_xgb.named_steps[\"method\"].get_booster().get_score(importance_type='weight'))\n",
    "ts.index = ts.reset_index()['index'].map(mapFeat)\n",
    "ts.sort_values()[-4:].plot(figsize=(6, 4), kind=\"barh\", title=(\"features importance\"))"
   ]
  },
  {
   "cell_type": "markdown",
   "metadata": {},
   "source": [
    "# SANDBOX"
   ]
  },
  {
   "cell_type": "code",
   "execution_count": 57,
   "metadata": {},
   "outputs": [
    {
     "name": "stderr",
     "output_type": "stream",
     "text": [
      "C:\\Users\\Gilang\\Anaconda3\\lib\\site-packages\\sklearn\\utils\\validation.py:475: DataConversionWarning: Data with input dtype object was converted to float64 by StandardScaler.\n",
      "  warnings.warn(msg, DataConversionWarning)\n"
     ]
    },
    {
     "data": {
      "text/plain": [
       "<matplotlib.axes._subplots.AxesSubplot at 0x1d18a96bbe0>"
      ]
     },
     "execution_count": 57,
     "metadata": {},
     "output_type": "execute_result"
    },
    {
     "data": {
      "image/png": "[encoded data removed]",
      "text/plain": [
       "<Figure size 864x576 with 1 Axes>"
      ]
     },
     "metadata": {
      "needs_background": "light"
     },
     "output_type": "display_data"
    }
   ],
   "source": [
    "\n",
    "Filter=final_df[(final_df.DT_Earthquake==1)&(final_df.Country=='China')].index\n",
    "X = feature.loc[Filter].values\n",
    "y = Label.loc[Filter,'TotalAffected'].values\n",
    "model_xgb = Pipeline([('scaler',StandardScaler()),('method', XGBRegressor(learning_rate=0.3, scale_pos_weight=1))])\n",
    "model_xgb.fit(X, y)\n",
    "mapFeat = dict(zip([\"f\"+str(i) for i in range(len(feature.columns))],feature.columns))\n",
    "ts = pd.Series(model_xgb.named_steps[\"method\"].get_booster().get_score(importance_type='weight'))\n",
    "ts.index = ts.reset_index()['index'].map(mapFeat)\n",
    "ts.sort_values()[-10:].plot(figsize=(12, 8), kind=\"barh\", title=(\"features importance\"))"
   ]
  },
  {
   "cell_type": "code",
   "execution_count": null,
   "metadata": {},
   "outputs": [],
   "source": []
  }
 ],
 "metadata": {
  "kernelspec": {
   "display_name": "Python 3",
   "language": "python",
   "name": "python3"
  },
  "language_info": {
   "codemirror_mode": {
    "name": "ipython",
    "version": 3
   },
   "file_extension": ".py",
   "mimetype": "text/x-python",
   "name": "python",
   "nbconvert_exporter": "python",
   "pygments_lexer": "ipython3",
   "version": "3.7.0"
  }
 },
 "nbformat": 4,
 "nbformat_minor": 2
}
