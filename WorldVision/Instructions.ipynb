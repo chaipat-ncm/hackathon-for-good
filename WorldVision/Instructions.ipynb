{
 "cells": [
  {
   "cell_type": "markdown",
   "metadata": {},
   "source": [
    "# Instructions for WorldVision challenge"
   ]
  },
  {
   "cell_type": "markdown",
   "metadata": {},
   "source": [
    "## World Vision: Preparing for emergency: forecasting humanitarian finance"
   ]
  },
  {
   "cell_type": "markdown",
   "metadata": {},
   "source": [
    "## Challenge\n",
    "During a disaster, humanitarian organisations deliver live-saving aid as quickly as possible to those in need. While getting emergency relief to affected areas can be challenging, anticipating disasters in advance could potentially help to reduce human suffering and losses. \n",
    "\n",
    "Humanitarian organisations are forced to be reactive, rather than being anticipatory. Consequently, finance for emergency response often only becomes available after a disaster has struck. Delayed financing causes even further delays in providing critical aid. \n",
    "\n",
    "While there are numerous indicesindicies that track and monitor different aspects of humanitarian assistance and drivers for need, there is no single source to guide early allocation of funds. Without having any models to anticipate the effect of an upcoming crisis, funding will only become available after the fact."
   ]
  },
  {
   "cell_type": "markdown",
   "metadata": {},
   "source": [
    "Detailed challenge info [here](https://www.hackathonforgood.org/world-vision)."
   ]
  },
  {
   "cell_type": "markdown",
   "metadata": {},
   "source": [
    "## Outcome\n",
    "To improve disaster response efforts, we ask you to help forecast humanitarian disasters and their impact in order to make available emergency funds available in time. Currently, there is not one comprehensive model to anticipate disasters and determine their impact. \n",
    "\n",
    "Therefore, we ask you to:\n",
    "\n",
    "1. Develop a model to forecast disasters;\n",
    "2. Determine the impact of these disasters;\n",
    "3. Indicate necessary amounts of funding;"
   ]
  },
  {
   "cell_type": "markdown",
   "metadata": {},
   "source": [
    "## Background information for challenge\n",
    "Currently there is not one consistent methodology or index that monitors the overall impact of humanitarian interventions globally towards providing a model for predictive financing. In 2015 alone over 28 Billion USD was allocated to humanitarian partners and implementers globally to assist those in a humanitarian situation. Over the last 5 years more than 110 Billion USD was allocated. At present, there are numerous indicies that track and monitor different aspects of humanitarian assistance and the drivers for need, yet there is nothing that has brought together sectors, indicators, early warning and poverty tracking to provide an overarching view of impact and financing. The goal of humanitarian interventions is impact, yet there is no clear definition for impact (Proudlock). Without both a clear definition of impact, the possibility for predictive financing is null, and thus the need for clear indicators towards reaching this lofty goal of informing donors on how and where to put their funds is sorely needed."
   ]
  },
  {
   "cell_type": "markdown",
   "metadata": {},
   "source": [
    "## The proposed solution\n",
    "Monitoring and assessing humanitarian impact is at the core of humanitarian work. Without impact, humanitarian work provides a finite purpose to immediately address life-saving needs, while not addressing the further impact that the humanitarian situation causes. There are three main reasons to monitor and report on global humanitarian impact:\n",
    "\n",
    "1. Value for response (monetarily and politically)\n",
    "2. Value for beneficiary (how does humanitarian action increase resilience of beneficiaries)\n",
    "3. Value for geo-political stability\n",
    "\n",
    "### Value for Response:\n",
    "\n",
    "It cannot be discounted that humanitarian aid is predominantly a political tool using funds given by taxpayers in donor nations. Humanitarian aid is inextricably linked to wielding political influence. In the current context of austerity and increasing humanitarian need, where the money goes—and to whom is scrutinized more keenly than any time in history. Major bi-lateral donors such as USAID, DFID and the EU have developed project monitoring tools with the aim to increase the impact of each Dollar, Pound or Euro they allocate to humanitarian responders. However, each monitors separately and utilizing separate indicators for impact. The goal, to identify predictive modeling indicators is to bring together widely accepted indicators and showcase the overall impact of humanitarian interventions at the national level to clearly understand where financing should be given, versus the current approach of monitoring project impact in finite areas of an intervention area, such as a village or community. The ability for all donors to see value for money, and value for influence will directly influence further donor funding and engagement.\n",
    "\n",
    "### Value for Beneficiary:\n",
    "\n",
    "Humanitarianism is defined as the doctrine that humanity’s obligations are concerned wholly with the welfare of the human race (random house). With that, it can be simply defined as helping other humans in need under what is promoted today as the humanitarian imperative (neutrality, impartiality and humanity). Thus, the goal of humanitarianism is to ensure value for beneficiary. By monitoring humanitarian impact and providing a sense of where funds should be given, those in and out of the field will have the ability to see the overarching value for beneficiary. While not consistent among each beneficiary group or within each situation, humanitarian impact should encompass the following major themes: 1) Safety, 2) Governance, 3) Economics, and 4) Quality of life. It is assumed that all humanitarian actions encompass at least one of the themes and by monitoring the overall national level quality of those four indicators, humanitarian impact can be assessed.\n",
    "\n",
    "### Value for Geo-Political Stability:\n",
    "\n",
    "Global stability, either economic or political is humanitarian by nature—that each human being has the same rights, ability and freedom. While this lofty ideal is far from realization, or consistent agreement, the increased impact of humanitarian action will provide avenues for realization. Humanitarian action is delivered in many different settings, but it is generally considered to be provided during: 1) sudden on-set natural disasters, 2) slow-onset natural disasters, 3) conflict and/or political crisis. If, over time, the impact of those crises is mitigated through appropriate financing programming and clarity in the understanding of humanitarian impact—the overarching effects of humanitarian situations will effect geo-political stability less."
   ]
  },
  {
   "cell_type": "markdown",
   "metadata": {},
   "source": [
    "## Datasets\n",
    "\n",
    "### Resources to start with\n",
    "[Global Humanitarian Overview 2018](http://interactive.unocha.org/publication/globalhumanitarianoverview/)\n",
    "-    The Global Humanitarian Overview is the most comprehensive, authoritative and evidence-based assessment of world humanitarian needs.\n",
    "\n",
    "[Global Humanitarian Assistance Report](http://devinit.org/post/global-humanitarian-assistance-report-2018/)\n",
    "-    A leading resource for understanding humanitarian financing and related aid flows.\n",
    "\n",
    "[Humanitarian Data Exchange](https://data.humdata.org/)\n",
    "-    The Humanitarian Data Exchange (HDX) is an open platform for sharing data across crises and organisations. Launched in July 2014, the goal of HDX is to make humanitarian data easy to find and use for analysis. It is run by UN-OCHA.\n",
    "\n",
    "[Centre for Humanitarian Data](https://centre.humdata.org/)\n",
    "\n",
    "### Datasets on humanitarian financing\n",
    "For more information about how humanitarian financing works:\n",
    "-    [Humanitarian Financing](https://www.unocha.org/our-work/humanitarian-financing)\n",
    "\n",
    "For datasets on humanitarian financing:\n",
    "-    [Financial Tracking Service](https://fts.unocha.org/)\n",
    "    -    FTS is a centralized source of curated, continuously updated, fully downloadable data and information on humanitarian funding flows. Government donors, UN-administered funds, UN agencies, NGOs and other humanitarian actors and partners [exchange data and information](http://ftsbeta.unocha.org/content/faqs-all-funding) with FTS in order to provide:\n",
    "        - Visibility of their financial contributions to humanitarian activities\n",
    "        - A timely and continuously updated [picture of funding flows](http://ftsbeta.unocha.org/global-funding/overview/2016) between donors (government and private) and operational humanitarian actors (UN agencies, the Red Cross Movement, NGOs and CSOs)\n",
    "        - Timely monitoring of funding progress against [humanitarian response plan](https://ftsbeta.unocha.org/appeals/overview/2016) (HRP) and appeal requirements.\n",
    "    FTS is managed by the United Nations Office for the Coordination of Humanitarian Affairs ([OCHA](http://www.unocha.org/)).\n",
    "-    [Central Emergency Response Fund](https://cerf.un.org/)\n",
    "\n",
    "### For datasets on disasters\n",
    "[EM-DAT](https://www.emdat.be/)\n",
    "-    EM-DAT contains **essential core data** on the occurrence and effects of over **22,000 mass disasters** in the world from **1900 to the present day**. The database is compiled from various sources, including UN agencies, non-governmental organisations, insurance companies, research institutes and press agencies.\n",
    "\n",
    "[INFORM Index](http://www.inform-index.org/)\n",
    "-    Index for risk management: INFORM is a global, open-source risk assessment for humanitarian crises and disasters. It can support decisions about prevention, preparedness and response.\n",
    "\n",
    "[World Vision Early Warning Tool](http://wvwv.world/dashboard/situation-report.php)\n",
    "-    Early prototype of World Vision Early Warning Tool\n",
    "\n",
    "[PREVIEW Global Risk Data Platform](https://preview.grid.unep.ch/)\n",
    "-    The PREVIEW Global Risk Data Platform is a multiple agencies effort to share spatial data information on global risk from natural hazards. Users can visualise, download or extract data on past hazardous events, human & economical hazard exposure and risk from natural hazards. It covers tropical cyclones and related storm surges, drought, earthquakes, biomass fires, floods, landslides, tsunamis and volcanic eruptions.\n",
    "\n",
    "### Other relevant datasets\n",
    "[Global Multidimensional Poverty Index](https://ophi.org.uk/multidimensional-poverty-index/)\n",
    "-    The global Multidimensional Poverty Index (MPI) is an international measure of acute poverty covering over 100 developing countries. It complements traditional income-based poverty measures by capturing the deprivations that each person faces at the same time with respect to education, health and living standards.\n",
    "\n",
    "[Global Conflict Tracker](https://www.cfr.org/interactives/global-conflict-tracker#!/global-conflict-tracker)\n",
    "\n",
    "[WorldView datasets](https://earth.esa.int/web/guest/data-access/browse-data-products/-/article/worldview-2-full-archive-and-tasking)"
   ]
  },
  {
   "cell_type": "markdown",
   "metadata": {},
   "source": [
    "## Relevant links and resources\n",
    "(articles, reports etc - background/contextual information)\n",
    " \n",
    "Heyse, L., Zwitter, A., Wittek, R., & Herman, J. (2014).  In Humanitarian Crises, Intervention and Security: A Framework for Evidence-Based Programming (Routledge Studies in Intervention and Statebuilding). London: Routledge, Taylor and Francis group.\n",
    "\n",
    "[IFRC: Forecast based financing](https://www.climatecentre.org/programmes-engagement/forecast-based-financing)\n",
    " \n",
    "[OCHA: Better Humanitarian Financing - Concept Note, 23 May 2018](https://reliefweb.int/report/world/ocha-better-humanitarian-financing-concept-note-23-may-2018)\n",
    " \n",
    "[Under-Secretary-General for Humanitarian Affairs and Emergency Relief Coordinator, Mark Lowcock: A Casement Lecture: Towards a Better System for Humanitarian Financing.  UNOCHA.  23 Mar 2018.  Iveagh House, Dublin, Ireland, 23 March 2018.](https://reliefweb.int/report/world/under-secretary-general-humanitarian-affairs-and-emergency-relief-coordinator-mark-0)\n",
    " \n",
    "Zwitter, Andrej.  (2016) Humanitarian Intelligence: A Practitioner's Guide to Crisis Analysis and Project Design Security. (Professional Intelligence Education Series). Rowman & Littlefield Publishers"
   ]
  }
 ],
 "metadata": {
  "kernelspec": {
   "display_name": "Python (deepcontrast)",
   "language": "python",
   "name": "deepcontrast"
  },
  "language_info": {
   "codemirror_mode": {
    "name": "ipython",
    "version": 3
   },
   "file_extension": ".py",
   "mimetype": "text/x-python",
   "name": "python",
   "nbconvert_exporter": "python",
   "pygments_lexer": "ipython3",
   "version": "3.6.5"
  }
 },
 "nbformat": 4,
 "nbformat_minor": 2
}
