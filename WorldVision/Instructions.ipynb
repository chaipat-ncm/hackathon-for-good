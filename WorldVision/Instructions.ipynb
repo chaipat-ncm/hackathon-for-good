{
 "cells": [
  {
   "cell_type": "markdown",
   "metadata": {},
   "source": [
    "# Instructions for WorldVision challenge"
   ]
  },
  {
   "cell_type": "markdown",
   "metadata": {},
   "source": [
    "Detailed challenge info [here](https://www.hackathonforgood.org/world-vision)."
   ]
  },
  {
   "cell_type": "markdown",
   "metadata": {},
   "source": [
    "## Outcome\n",
    "-    Develop a model to forecast disasters\n",
    "-    Determine the impact of these disasters\n",
    "-    Indicate necessary amounts of funding"
   ]
  },
  {
   "cell_type": "markdown",
   "metadata": {},
   "source": [
    "## Datasets\n",
    "-    [Humanitarian Data Exchange](https://data.humdata.org/)\n",
    "-    [INFORM Index](http://www.inform-index.org/)\n",
    "-    [Humanitarian Financing](https://www.unocha.org/our-work/humanitarian-financing)\n",
    "-    [World Vision Early Warning Tool](http://wvwv.world/dashboard/situation-report.php)\n",
    "-    [Global Humanitarian Assistance Report](http://devinit.org/post/global-humanitarian-assistance-report-2018/)\n",
    "-    [Global Multidimensional Poverty Index](https://ophi.org.uk/multidimensional-poverty-index/)\n",
    "-    [Global Conflict Tracker](https://www.cfr.org/interactives/global-conflict-tracker#!/global-conflict-tracker)\n",
    "-    [Humanitarian Response Index](https://daraint.org/humanitarian-response-index/)\n",
    "-    [Global Assessment Report on Disaster Risk Reduction](https://sustainabledevelopment.un.org/index.php?page=view&type=400&nr=2046&menu=1515)\n",
    "-    [EM-DAT](https://www.emdat.be/)\n",
    "-    [PREVIEW Global Risk Data Platform](https://preview.grid.unep.ch/)\n",
    "-    [Centre for Humanitarian Data](https://centre.humdata.org/)\n",
    "-    [WorldView datasets](https://earth.esa.int/web/guest/data-access/browse-data-products/-/article/worldview-2-full-archive-and-tasking)"
   ]
  },
  {
   "cell_type": "markdown",
   "metadata": {},
   "source": [
    "## Relevant links and resources\n",
    "(articles, reports etc - background/contextual information)\n",
    " \n",
    "Heyse, L., Zwitter, A., Wittek, R., & Herman, J. (2014).  In Humanitarian Crises, Intervention and Security: A Framework for Evidence-Based Programming (Routledge Studies in Intervention and Statebuilding). London: Routledge, Taylor and Francis group.\n",
    " \n",
    "[OCHA: Better Humanitarian Financing - Concept Note, 23 May 2018](https://reliefweb.int/report/world/ocha-better-humanitarian-financing-concept-note-23-may-2018)\n",
    " \n",
    "[Under-Secretary-General for Humanitarian Affairs and Emergency Relief Coordinator, Mark Lowcock: A Casement Lecture: Towards a Better System for Humanitarian Financing.  UNOCHA.  23 Mar 2018.  Iveagh House, Dublin, Ireland, 23 March 2018.](https://reliefweb.int/report/world/under-secretary-general-humanitarian-affairs-and-emergency-relief-coordinator-mark-0)\n",
    " \n",
    "Zwitter, Andrej.  (2016) Humanitarian Intelligence: A Practitioner's Guide to Crisis Analysis and Project Design Security. (Professional Intelligence Education Series). Rowman & Littlefield Publishers"
   ]
  }
 ],
 "metadata": {
  "kernelspec": {
   "display_name": "Python [conda env:workshops]",
   "language": "python",
   "name": "conda-env-workshops-py"
  },
  "language_info": {
   "codemirror_mode": {
    "name": "ipython",
    "version": 3
   },
   "file_extension": ".py",
   "mimetype": "text/x-python",
   "name": "python",
   "nbconvert_exporter": "python",
   "pygments_lexer": "ipython3",
   "version": "3.6.7"
  }
 },
 "nbformat": 4,
 "nbformat_minor": 2
}
