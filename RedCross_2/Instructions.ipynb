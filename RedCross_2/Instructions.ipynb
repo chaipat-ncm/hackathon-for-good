{
 "cells": [
  {
   "cell_type": "markdown",
   "metadata": {},
   "source": [
    "# Instructions for Red Cross challenge 2"
   ]
  },
  {
   "cell_type": "markdown",
   "metadata": {},
   "source": [
    "Detailed challenge info [here](https://www.hackathonforgood.org/red-cross)."
   ]
  },
  {
   "cell_type": "markdown",
   "metadata": {},
   "source": [
    "## Outcome\n",
    "To write an algorithm that detects misalignment between Open Street Map data and Bing satellite imagery and shifts the Open Street Map building outlines to fit the satellite imagery as accurately as possible."
   ]
  },
  {
   "cell_type": "markdown",
   "metadata": {},
   "source": [
    "## Datasets\n",
    "You can find the datasets [here](https://drive.google.com/drive/folders/1n1Jtu-tfLNIGtbfLFXQCOp3Su8oEyHWy?usp=sharing)"
   ]
  }
 ],
 "metadata": {
  "kernelspec": {
   "display_name": "Python [conda env:workshops]",
   "language": "python",
   "name": "conda-env-workshops-py"
  },
  "language_info": {
   "codemirror_mode": {
    "name": "ipython",
    "version": 3
   },
   "file_extension": ".py",
   "mimetype": "text/x-python",
   "name": "python",
   "nbconvert_exporter": "python",
   "pygments_lexer": "ipython3",
   "version": "3.6.7"
  }
 },
 "nbformat": 4,
 "nbformat_minor": 2
}
