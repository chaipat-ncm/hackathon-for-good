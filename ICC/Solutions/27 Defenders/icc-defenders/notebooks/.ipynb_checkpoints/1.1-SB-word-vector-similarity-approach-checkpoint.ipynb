{
 "cells": [
  {
   "cell_type": "code",
   "execution_count": 16,
   "metadata": {},
   "outputs": [],
   "source": [
    "import spacy\n",
    "import numpy as np\n",
    "from collections import namedtuple\n",
    "from spacy.lang.en.stop_words import STOP_WORDS\n",
    "from sklearn.decomposition import TruncatedSVD"
   ]
  },
  {
   "cell_type": "code",
   "execution_count": 3,
   "metadata": {},
   "outputs": [],
   "source": [
    "model = 'en_core_web_lg'\n",
    "nlp = spacy.load(model)"
   ]
  },
  {
   "cell_type": "code",
   "execution_count": 4,
   "metadata": {},
   "outputs": [],
   "source": [
    "SENTENCES = ['my house is situated in',\n",
    "             'lives in',\n",
    "             'is from',\n",
    "             'comes from',\n",
    "             'happened in',\n",
    "             'was taking place at',\n",
    "             'was born on',\n",
    "             ', age 23']"
   ]
  },
  {
   "cell_type": "code",
   "execution_count": 8,
   "metadata": {},
   "outputs": [],
   "source": [
    "RelationType = namedtuple('RelationType', ['type', 'description_words'])\n",
    "RELATION_TYPES = [RelationType('LIVES IN', ['house', 'lives', 'resident']),\n",
    "                  RelationType('BIRTHDATE', ['born', 'birthdate']),\n",
    "                  RelationType('WHEN', ['happened', 'time', 'when']),\n",
    "                  RelationType('WHERE', ['happened', 'place', 'where'])]\n",
    "relation_docs = [nlp(' '.join(description_words)) for _, description_words in RELATION_TYPES]"
   ]
  },
  {
   "cell_type": "code",
   "execution_count": 14,
   "metadata": {},
   "outputs": [],
   "source": [
    "def is_relation_type(doc):\n",
    "    similarities = []\n",
    "    non_stop_doc = nlp(' '.join([token.text for token in doc if not token.text in STOP_WORDS]))\n",
    "    for relation_doc in relation_docs:\n",
    "        similarities.append(non_stop_doc.similarity(relation_doc))\n",
    "    return RELATION_TYPES[np.argmax(similarities)].type\n",
    "        "
   ]
  },
  {
   "cell_type": "code",
   "execution_count": 15,
   "metadata": {},
   "outputs": [
    {
     "name": "stdout",
     "output_type": "stream",
     "text": [
      "my house is situated in: LIVES IN\n",
      "lives in: LIVES IN\n",
      "is from: LIVES IN\n",
      "comes from: WHEN\n",
      "happened in: WHEN\n",
      "was taking place at: WHERE\n",
      "was born on: BIRTHDATE\n",
      ", age 23: BIRTHDATE\n",
      ": LIVES IN\n"
     ]
    }
   ],
   "source": [
    "for sentence in SENTENCES:\n",
    "    doc = nlp(sentence)\n",
    "    print(str(doc) + ': ' + is_relation_type(doc))"
   ]
  },
  {
   "cell_type": "code",
   "execution_count": 17,
   "metadata": {},
   "outputs": [
    {
     "ename": "NameError",
     "evalue": "name 'vectors' is not defined",
     "output_type": "error",
     "traceback": [
      "\u001b[0;31m---------------------------------------------------------------------------\u001b[0m",
      "\u001b[0;31mNameError\u001b[0m                                 Traceback (most recent call last)",
      "\u001b[0;32m<ipython-input-17-70e7906450b2>\u001b[0m in \u001b[0;36m<module>\u001b[0;34m\u001b[0m\n\u001b[1;32m      1\u001b[0m \u001b[0mlsa\u001b[0m \u001b[0;34m=\u001b[0m \u001b[0mTruncatedSVD\u001b[0m\u001b[0;34m(\u001b[0m\u001b[0mn_components\u001b[0m\u001b[0;34m=\u001b[0m\u001b[0;36m2\u001b[0m\u001b[0;34m)\u001b[0m\u001b[0;34m\u001b[0m\u001b[0;34m\u001b[0m\u001b[0m\n\u001b[0;32m----> 2\u001b[0;31m \u001b[0mlsaOut\u001b[0m \u001b[0;34m=\u001b[0m \u001b[0mlsa\u001b[0m\u001b[0;34m.\u001b[0m\u001b[0mfit_transform\u001b[0m\u001b[0;34m(\u001b[0m\u001b[0mvectors\u001b[0m\u001b[0;34m)\u001b[0m\u001b[0;34m\u001b[0m\u001b[0;34m\u001b[0m\u001b[0m\n\u001b[0m",
      "\u001b[0;31mNameError\u001b[0m: name 'vectors' is not defined"
     ]
    }
   ],
   "source": [
    "vectors = \n",
    "lsa = TruncatedSVD(n_components=2)\n",
    "lsa_out = lsa.fit_transform(vectors)"
   ]
  },
  {
   "cell_type": "code",
   "execution_count": null,
   "metadata": {},
   "outputs": [],
   "source": []
  }
 ],
 "metadata": {
  "kernelspec": {
   "display_name": "Python 3",
   "language": "python",
   "name": "python3"
  },
  "language_info": {
   "codemirror_mode": {
    "name": "ipython",
    "version": 3
   },
   "file_extension": ".py",
   "mimetype": "text/x-python",
   "name": "python",
   "nbconvert_exporter": "python",
   "pygments_lexer": "ipython3",
   "version": "3.6.7"
  }
 },
 "nbformat": 4,
 "nbformat_minor": 2
}
