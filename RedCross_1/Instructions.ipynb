{
 "cells": [
  {
   "cell_type": "markdown",
   "metadata": {},
   "source": [
    "# Instructions for Red Cross challenge 1"
   ]
  },
  {
   "cell_type": "markdown",
   "metadata": {},
   "source": [
    "Detailed challenge info [here](https://www.hackathonforgood.org/red-cross)."
   ]
  },
  {
   "cell_type": "markdown",
   "metadata": {},
   "source": [
    "## Outcome\n",
    "-    Using Computer Vision, detect damage from the pictures directly and classify the level of damage.\n",
    "-    Datasets: geographical subsection of the island of St Maartens, representative of the damage caused on the island.\n",
    "-    All other 34 UAV datasets.\n",
    "-    Building outlines from OpenStreetMap."
   ]
  },
  {
   "cell_type": "markdown",
   "metadata": {},
   "source": [
    "## Datasets\n",
    "\n",
    "You can find the datasets [here](https://drive.google.com/drive/folders/1n1Jtu-tfLNIGtbfLFXQCOp3Su8oEyHWy?usp=sharing)"
   ]
  }
 ],
 "metadata": {
  "kernelspec": {
   "display_name": "Python [conda env:workshops]",
   "language": "python",
   "name": "conda-env-workshops-py"
  },
  "language_info": {
   "codemirror_mode": {
    "name": "ipython",
    "version": 3
   },
   "file_extension": ".py",
   "mimetype": "text/x-python",
   "name": "python",
   "nbconvert_exporter": "python",
   "pygments_lexer": "ipython3",
   "version": "3.6.7"
  }
 },
 "nbformat": 4,
 "nbformat_minor": 2
}
