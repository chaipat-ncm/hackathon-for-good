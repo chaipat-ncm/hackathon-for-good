{
 "cells": [
  {
   "cell_type": "markdown",
   "metadata": {},
   "source": [
    "# Instructions for NCIA challenge"
   ]
  },
  {
   "cell_type": "markdown",
   "metadata": {},
   "source": [
    "Detailed challenge info [here](https://www.hackathonforgood.org/ncia)."
   ]
  },
  {
   "cell_type": "markdown",
   "metadata": {},
   "source": [
    "## Outcome\n",
    "-  To find a solution which can identify objects and text within images and identify relationships\n",
    "between key elements of the image and associated hashtags. Images should be scored with a value related\n",
    "to the level of correlation between the image and a reference set of graphical objects and text terms.\n",
    "(Any solution which could be integrated into the open source KNIME analytics platform (www.knime.org)\n",
    "would be particularly welcome.) Any hackathon solutions to this challenge which perform well with the test\n",
    "data set and others will be taken forward and used at a NATO exercise soon after the hackathon ends. There\n",
    "is potential for hackathon teams to continue to work with NCIA if both parties wish."
   ]
  },
  {
   "cell_type": "markdown",
   "metadata": {},
   "source": [
    "## Datasets\n",
    "\n",
    "You can find the dataset [here](https://drive.google.com/drive/folders/1RPE9EaEco6K8H6jcWp2XS7Ozs87zTpMk?usp=sharing)"
   ]
  }
 ],
 "metadata": {
  "kernelspec": {
   "display_name": "Python [conda env:workshops]",
   "language": "python",
   "name": "conda-env-workshops-py"
  },
  "language_info": {
   "codemirror_mode": {
    "name": "ipython",
    "version": 3
   },
   "file_extension": ".py",
   "mimetype": "text/x-python",
   "name": "python",
   "nbconvert_exporter": "python",
   "pygments_lexer": "ipython3",
   "version": "3.6.7"
  }
 },
 "nbformat": 4,
 "nbformat_minor": 2
}
